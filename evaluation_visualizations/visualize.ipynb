{
 "cells": [
  {
   "cell_type": "code",
   "execution_count": null,
   "metadata": {},
   "outputs": [],
   "source": [
    "def print_column_means(df):    \n",
    "    # Exclude the 'episode_id' column\n",
    "    columns_to_consider = df.drop(columns=['episode_id'], errors='ignore')\n",
    "    \n",
    "    # Calculate the mean for each column\n",
    "    means = columns_to_consider.mean()\n",
    "    \n",
    "    # Print the means\n",
    "    print(means)\n"
   ]
  },
  {
   "cell_type": "code",
   "execution_count": null,
   "metadata": {},
   "outputs": [],
   "source": [
    "df = pd.read_csv('./evaluation falcon_hmap_1 hm3d checkpoints ckpt.7-1.pth.csv')\n",
    "print_column_means(df)"
   ]
  }
 ],
 "metadata": {
  "language_info": {
   "name": "python"
  }
 },
 "nbformat": 4,
 "nbformat_minor": 2
}
